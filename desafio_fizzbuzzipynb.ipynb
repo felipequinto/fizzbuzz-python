{
  "nbformat": 4,
  "nbformat_minor": 0,
  "metadata": {
    "colab": {
      "provenance": [],
      "authorship_tag": "ABX9TyMAH5JpIWSpXINJjaIiRUyJ",
      "include_colab_link": true
    },
    "kernelspec": {
      "name": "python3",
      "display_name": "Python 3"
    },
    "language_info": {
      "name": "python"
    }
  },
  "cells": [
    {
      "cell_type": "markdown",
      "metadata": {
        "id": "view-in-github",
        "colab_type": "text"
      },
      "source": [
        "<a href=\"https://colab.research.google.com/github/felipequinto/fizzbuzz-python/blob/main/desafio_fizzbuzzipynb.ipynb\" target=\"_parent\"><img src=\"https://colab.research.google.com/assets/colab-badge.svg\" alt=\"Open In Colab\"/></a>"
      ]
    },
    {
      "cell_type": "markdown",
      "source": [
        "#Desafio \"FizzBuzz\""
      ],
      "metadata": {
        "id": "-iS-LCfH22ub"
      }
    },
    {
      "cell_type": "code",
      "execution_count": null,
      "metadata": {
        "id": "V3sTT3tF20Yc"
      },
      "outputs": [],
      "source": [
        "# Imprimir números de 1 a 100, substituindo alguns por \"Fizz\", \"Buzz\" ou \"FizzBuzz\"\n",
        "for i in range(1, 101):\n",
        "    if i % 3 == 0 and i % 5 == 0:  # Se o número for divisível por 3 e por 5, imprima \"FizzBuzz\"\n",
        "        print(\"FizzBuzz\")\n",
        "    elif i % 3 == 0:  # Se o número for divisível por 3, imprima \"Fizz\"\n",
        "        print(\"Fizz\")\n",
        "    elif i % 5 == 0:  # Se o número for divisível por 5, imprima \"Buzz\"\n",
        "        print(\"Buzz\")\n",
        "    else:  # Caso contrário, imprima o número\n",
        "        print(i)\n"
      ]
    }
  ]
}